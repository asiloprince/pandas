{
 "cells": [
  {
   "cell_type": "markdown",
   "id": "12a9f9d8",
   "metadata": {},
   "source": [
    "# DataFrame"
   ]
  },
  {
   "cell_type": "code",
   "execution_count": 2,
   "id": "4db7d8bc",
   "metadata": {},
   "outputs": [],
   "source": [
    "import numpy as np\n",
    "import pandas as pd"
   ]
  },
  {
   "cell_type": "code",
   "execution_count": 4,
   "id": "b88892df",
   "metadata": {},
   "outputs": [],
   "source": [
    "from numpy.random import randn"
   ]
  },
  {
   "cell_type": "markdown",
   "id": "966a4738",
   "metadata": {},
   "source": [
    "#data frame two dimensional\n",
    "#data frame is the main tool in pandas\n",
    "#pd.DataFrame[data]"
   ]
  },
  {
   "cell_type": "code",
   "execution_count": 7,
   "id": "090da81d",
   "metadata": {},
   "outputs": [],
   "source": [
    "np.random.seed(101)"
   ]
  },
  {
   "cell_type": "markdown",
   "id": "6330ae20",
   "metadata": {},
   "source": [
    "#random.seed use to ensure that we get the same numbers"
   ]
  },
  {
   "cell_type": "code",
   "execution_count": 10,
   "id": "a3886426",
   "metadata": {},
   "outputs": [],
   "source": [
    "df = pd.DataFrame(randn(5,5),['A','B','C','D','E'],['Ai','Ruby','Kana','Aqua','Akane'])"
   ]
  },
  {
   "cell_type": "markdown",
   "id": "04a166f5",
   "metadata": {},
   "source": [
    "#df = pd.DataFrame('data argument',['index argument'],['column argument'])"
   ]
  },
  {
   "cell_type": "code",
   "execution_count": 11,
   "id": "a3d18b87",
   "metadata": {},
   "outputs": [
    {
     "data": {
      "text/html": [
       "<div>\n",
       "<style scoped>\n",
       "    .dataframe tbody tr th:only-of-type {\n",
       "        vertical-align: middle;\n",
       "    }\n",
       "\n",
       "    .dataframe tbody tr th {\n",
       "        vertical-align: top;\n",
       "    }\n",
       "\n",
       "    .dataframe thead th {\n",
       "        text-align: right;\n",
       "    }\n",
       "</style>\n",
       "<table border=\"1\" class=\"dataframe\">\n",
       "  <thead>\n",
       "    <tr style=\"text-align: right;\">\n",
       "      <th></th>\n",
       "      <th>Ai</th>\n",
       "      <th>Ruby</th>\n",
       "      <th>Kana</th>\n",
       "      <th>Aqua</th>\n",
       "      <th>Akane</th>\n",
       "    </tr>\n",
       "  </thead>\n",
       "  <tbody>\n",
       "    <tr>\n",
       "      <th>A</th>\n",
       "      <td>-0.112856</td>\n",
       "      <td>2.051363</td>\n",
       "      <td>-0.036231</td>\n",
       "      <td>-0.019784</td>\n",
       "      <td>-2.705617</td>\n",
       "    </tr>\n",
       "    <tr>\n",
       "      <th>B</th>\n",
       "      <td>-1.062672</td>\n",
       "      <td>1.312714</td>\n",
       "      <td>-0.212791</td>\n",
       "      <td>0.961455</td>\n",
       "      <td>0.165718</td>\n",
       "    </tr>\n",
       "    <tr>\n",
       "      <th>C</th>\n",
       "      <td>0.799515</td>\n",
       "      <td>-2.445938</td>\n",
       "      <td>0.575135</td>\n",
       "      <td>0.336439</td>\n",
       "      <td>-1.574594</td>\n",
       "    </tr>\n",
       "    <tr>\n",
       "      <th>D</th>\n",
       "      <td>1.143517</td>\n",
       "      <td>-1.542120</td>\n",
       "      <td>-0.154228</td>\n",
       "      <td>-1.917655</td>\n",
       "      <td>-0.124700</td>\n",
       "    </tr>\n",
       "    <tr>\n",
       "      <th>E</th>\n",
       "      <td>1.184817</td>\n",
       "      <td>0.851445</td>\n",
       "      <td>-0.927864</td>\n",
       "      <td>-0.679774</td>\n",
       "      <td>1.024385</td>\n",
       "    </tr>\n",
       "  </tbody>\n",
       "</table>\n",
       "</div>"
      ],
      "text/plain": [
       "         Ai      Ruby      Kana      Aqua     Akane\n",
       "A -0.112856  2.051363 -0.036231 -0.019784 -2.705617\n",
       "B -1.062672  1.312714 -0.212791  0.961455  0.165718\n",
       "C  0.799515 -2.445938  0.575135  0.336439 -1.574594\n",
       "D  1.143517 -1.542120 -0.154228 -1.917655 -0.124700\n",
       "E  1.184817  0.851445 -0.927864 -0.679774  1.024385"
      ]
     },
     "execution_count": 11,
     "metadata": {},
     "output_type": "execute_result"
    }
   ],
   "source": [
    "df"
   ]
  },
  {
   "cell_type": "code",
   "execution_count": 12,
   "id": "fd0a990f",
   "metadata": {},
   "outputs": [
    {
     "data": {
      "text/plain": [
       "A   -0.036231\n",
       "B   -0.212791\n",
       "C    0.575135\n",
       "D   -0.154228\n",
       "E   -0.927864\n",
       "Name: Kana, dtype: float64"
      ]
     },
     "execution_count": 12,
     "metadata": {},
     "output_type": "execute_result"
    }
   ],
   "source": [
    "df['Kana']"
   ]
  },
  {
   "cell_type": "code",
   "execution_count": 14,
   "id": "b6b515bd",
   "metadata": {},
   "outputs": [
    {
     "data": {
      "text/plain": [
       "pandas.core.series.Series"
      ]
     },
     "execution_count": 14,
     "metadata": {},
     "output_type": "execute_result"
    }
   ],
   "source": [
    "type(df['Kana'])"
   ]
  },
  {
   "cell_type": "markdown",
   "id": "79575507",
   "metadata": {},
   "source": [
    "#dataframe is bunch of series that share a same index"
   ]
  },
  {
   "cell_type": "code",
   "execution_count": 21,
   "id": "3b625b9c",
   "metadata": {},
   "outputs": [
    {
     "data": {
      "text/html": [
       "<div>\n",
       "<style scoped>\n",
       "    .dataframe tbody tr th:only-of-type {\n",
       "        vertical-align: middle;\n",
       "    }\n",
       "\n",
       "    .dataframe tbody tr th {\n",
       "        vertical-align: top;\n",
       "    }\n",
       "\n",
       "    .dataframe thead th {\n",
       "        text-align: right;\n",
       "    }\n",
       "</style>\n",
       "<table border=\"1\" class=\"dataframe\">\n",
       "  <thead>\n",
       "    <tr style=\"text-align: right;\">\n",
       "      <th></th>\n",
       "      <th>Ruby</th>\n",
       "      <th>Aqua</th>\n",
       "      <th>Ai</th>\n",
       "    </tr>\n",
       "  </thead>\n",
       "  <tbody>\n",
       "    <tr>\n",
       "      <th>A</th>\n",
       "      <td>2.051363</td>\n",
       "      <td>-0.019784</td>\n",
       "      <td>-0.112856</td>\n",
       "    </tr>\n",
       "    <tr>\n",
       "      <th>B</th>\n",
       "      <td>1.312714</td>\n",
       "      <td>0.961455</td>\n",
       "      <td>-1.062672</td>\n",
       "    </tr>\n",
       "    <tr>\n",
       "      <th>C</th>\n",
       "      <td>-2.445938</td>\n",
       "      <td>0.336439</td>\n",
       "      <td>0.799515</td>\n",
       "    </tr>\n",
       "    <tr>\n",
       "      <th>D</th>\n",
       "      <td>-1.542120</td>\n",
       "      <td>-1.917655</td>\n",
       "      <td>1.143517</td>\n",
       "    </tr>\n",
       "    <tr>\n",
       "      <th>E</th>\n",
       "      <td>0.851445</td>\n",
       "      <td>-0.679774</td>\n",
       "      <td>1.184817</td>\n",
       "    </tr>\n",
       "  </tbody>\n",
       "</table>\n",
       "</div>"
      ],
      "text/plain": [
       "       Ruby      Aqua        Ai\n",
       "A  2.051363 -0.019784 -0.112856\n",
       "B  1.312714  0.961455 -1.062672\n",
       "C -2.445938  0.336439  0.799515\n",
       "D -1.542120 -1.917655  1.143517\n",
       "E  0.851445 -0.679774  1.184817"
      ]
     },
     "execution_count": 21,
     "metadata": {},
     "output_type": "execute_result"
    }
   ],
   "source": [
    "df[['Ruby','Aqua','Ai']]"
   ]
  },
  {
   "cell_type": "markdown",
   "id": "103e97bc",
   "metadata": {},
   "source": [
    "#add new column"
   ]
  },
  {
   "cell_type": "code",
   "execution_count": 32,
   "id": "14a3d531",
   "metadata": {},
   "outputs": [],
   "source": [
    "df['hikaru'] = df['Ai']+df['Aqua']"
   ]
  },
  {
   "cell_type": "code",
   "execution_count": 33,
   "id": "862b72f4",
   "metadata": {},
   "outputs": [
    {
     "data": {
      "text/html": [
       "<div>\n",
       "<style scoped>\n",
       "    .dataframe tbody tr th:only-of-type {\n",
       "        vertical-align: middle;\n",
       "    }\n",
       "\n",
       "    .dataframe tbody tr th {\n",
       "        vertical-align: top;\n",
       "    }\n",
       "\n",
       "    .dataframe thead th {\n",
       "        text-align: right;\n",
       "    }\n",
       "</style>\n",
       "<table border=\"1\" class=\"dataframe\">\n",
       "  <thead>\n",
       "    <tr style=\"text-align: right;\">\n",
       "      <th></th>\n",
       "      <th>Ai</th>\n",
       "      <th>Ruby</th>\n",
       "      <th>Kana</th>\n",
       "      <th>Aqua</th>\n",
       "      <th>Akane</th>\n",
       "      <th>hikaru</th>\n",
       "    </tr>\n",
       "  </thead>\n",
       "  <tbody>\n",
       "    <tr>\n",
       "      <th>A</th>\n",
       "      <td>-0.112856</td>\n",
       "      <td>2.051363</td>\n",
       "      <td>-0.036231</td>\n",
       "      <td>-0.019784</td>\n",
       "      <td>-2.705617</td>\n",
       "      <td>-0.132640</td>\n",
       "    </tr>\n",
       "    <tr>\n",
       "      <th>B</th>\n",
       "      <td>-1.062672</td>\n",
       "      <td>1.312714</td>\n",
       "      <td>-0.212791</td>\n",
       "      <td>0.961455</td>\n",
       "      <td>0.165718</td>\n",
       "      <td>-0.101217</td>\n",
       "    </tr>\n",
       "    <tr>\n",
       "      <th>C</th>\n",
       "      <td>0.799515</td>\n",
       "      <td>-2.445938</td>\n",
       "      <td>0.575135</td>\n",
       "      <td>0.336439</td>\n",
       "      <td>-1.574594</td>\n",
       "      <td>1.135954</td>\n",
       "    </tr>\n",
       "    <tr>\n",
       "      <th>D</th>\n",
       "      <td>1.143517</td>\n",
       "      <td>-1.542120</td>\n",
       "      <td>-0.154228</td>\n",
       "      <td>-1.917655</td>\n",
       "      <td>-0.124700</td>\n",
       "      <td>-0.774138</td>\n",
       "    </tr>\n",
       "    <tr>\n",
       "      <th>E</th>\n",
       "      <td>1.184817</td>\n",
       "      <td>0.851445</td>\n",
       "      <td>-0.927864</td>\n",
       "      <td>-0.679774</td>\n",
       "      <td>1.024385</td>\n",
       "      <td>0.505043</td>\n",
       "    </tr>\n",
       "  </tbody>\n",
       "</table>\n",
       "</div>"
      ],
      "text/plain": [
       "         Ai      Ruby      Kana      Aqua     Akane    hikaru\n",
       "A -0.112856  2.051363 -0.036231 -0.019784 -2.705617 -0.132640\n",
       "B -1.062672  1.312714 -0.212791  0.961455  0.165718 -0.101217\n",
       "C  0.799515 -2.445938  0.575135  0.336439 -1.574594  1.135954\n",
       "D  1.143517 -1.542120 -0.154228 -1.917655 -0.124700 -0.774138\n",
       "E  1.184817  0.851445 -0.927864 -0.679774  1.024385  0.505043"
      ]
     },
     "execution_count": 33,
     "metadata": {},
     "output_type": "execute_result"
    }
   ],
   "source": [
    "df"
   ]
  },
  {
   "cell_type": "markdown",
   "id": "3cc5973c",
   "metadata": {},
   "source": [
    "#removing column"
   ]
  },
  {
   "cell_type": "code",
   "execution_count": 34,
   "id": "14da3005",
   "metadata": {},
   "outputs": [],
   "source": [
    "df.drop('hikaru',axis=1,inplace=True)"
   ]
  },
  {
   "cell_type": "markdown",
   "id": "456e53d5",
   "metadata": {},
   "source": [
    "#inplace = True --> modify original data"
   ]
  },
  {
   "cell_type": "code",
   "execution_count": 27,
   "id": "618505ea",
   "metadata": {},
   "outputs": [
    {
     "data": {
      "text/html": [
       "<div>\n",
       "<style scoped>\n",
       "    .dataframe tbody tr th:only-of-type {\n",
       "        vertical-align: middle;\n",
       "    }\n",
       "\n",
       "    .dataframe tbody tr th {\n",
       "        vertical-align: top;\n",
       "    }\n",
       "\n",
       "    .dataframe thead th {\n",
       "        text-align: right;\n",
       "    }\n",
       "</style>\n",
       "<table border=\"1\" class=\"dataframe\">\n",
       "  <thead>\n",
       "    <tr style=\"text-align: right;\">\n",
       "      <th></th>\n",
       "      <th>Ai</th>\n",
       "      <th>Ruby</th>\n",
       "      <th>Kana</th>\n",
       "      <th>Aqua</th>\n",
       "      <th>Akane</th>\n",
       "    </tr>\n",
       "  </thead>\n",
       "  <tbody>\n",
       "    <tr>\n",
       "      <th>A</th>\n",
       "      <td>-0.112856</td>\n",
       "      <td>2.051363</td>\n",
       "      <td>-0.036231</td>\n",
       "      <td>-0.019784</td>\n",
       "      <td>-2.705617</td>\n",
       "    </tr>\n",
       "    <tr>\n",
       "      <th>B</th>\n",
       "      <td>-1.062672</td>\n",
       "      <td>1.312714</td>\n",
       "      <td>-0.212791</td>\n",
       "      <td>0.961455</td>\n",
       "      <td>0.165718</td>\n",
       "    </tr>\n",
       "    <tr>\n",
       "      <th>C</th>\n",
       "      <td>0.799515</td>\n",
       "      <td>-2.445938</td>\n",
       "      <td>0.575135</td>\n",
       "      <td>0.336439</td>\n",
       "      <td>-1.574594</td>\n",
       "    </tr>\n",
       "    <tr>\n",
       "      <th>D</th>\n",
       "      <td>1.143517</td>\n",
       "      <td>-1.542120</td>\n",
       "      <td>-0.154228</td>\n",
       "      <td>-1.917655</td>\n",
       "      <td>-0.124700</td>\n",
       "    </tr>\n",
       "    <tr>\n",
       "      <th>E</th>\n",
       "      <td>1.184817</td>\n",
       "      <td>0.851445</td>\n",
       "      <td>-0.927864</td>\n",
       "      <td>-0.679774</td>\n",
       "      <td>1.024385</td>\n",
       "    </tr>\n",
       "  </tbody>\n",
       "</table>\n",
       "</div>"
      ],
      "text/plain": [
       "         Ai      Ruby      Kana      Aqua     Akane\n",
       "A -0.112856  2.051363 -0.036231 -0.019784 -2.705617\n",
       "B -1.062672  1.312714 -0.212791  0.961455  0.165718\n",
       "C  0.799515 -2.445938  0.575135  0.336439 -1.574594\n",
       "D  1.143517 -1.542120 -0.154228 -1.917655 -0.124700\n",
       "E  1.184817  0.851445 -0.927864 -0.679774  1.024385"
      ]
     },
     "execution_count": 27,
     "metadata": {},
     "output_type": "execute_result"
    }
   ],
   "source": [
    "df"
   ]
  },
  {
   "cell_type": "code",
   "execution_count": 28,
   "id": "37cb0f71",
   "metadata": {},
   "outputs": [
    {
     "data": {
      "text/html": [
       "<div>\n",
       "<style scoped>\n",
       "    .dataframe tbody tr th:only-of-type {\n",
       "        vertical-align: middle;\n",
       "    }\n",
       "\n",
       "    .dataframe tbody tr th {\n",
       "        vertical-align: top;\n",
       "    }\n",
       "\n",
       "    .dataframe thead th {\n",
       "        text-align: right;\n",
       "    }\n",
       "</style>\n",
       "<table border=\"1\" class=\"dataframe\">\n",
       "  <thead>\n",
       "    <tr style=\"text-align: right;\">\n",
       "      <th></th>\n",
       "      <th>Ai</th>\n",
       "      <th>Ruby</th>\n",
       "      <th>Kana</th>\n",
       "      <th>Aqua</th>\n",
       "      <th>Akane</th>\n",
       "    </tr>\n",
       "  </thead>\n",
       "  <tbody>\n",
       "    <tr>\n",
       "      <th>A</th>\n",
       "      <td>-0.112856</td>\n",
       "      <td>2.051363</td>\n",
       "      <td>-0.036231</td>\n",
       "      <td>-0.019784</td>\n",
       "      <td>-2.705617</td>\n",
       "    </tr>\n",
       "    <tr>\n",
       "      <th>B</th>\n",
       "      <td>-1.062672</td>\n",
       "      <td>1.312714</td>\n",
       "      <td>-0.212791</td>\n",
       "      <td>0.961455</td>\n",
       "      <td>0.165718</td>\n",
       "    </tr>\n",
       "    <tr>\n",
       "      <th>C</th>\n",
       "      <td>0.799515</td>\n",
       "      <td>-2.445938</td>\n",
       "      <td>0.575135</td>\n",
       "      <td>0.336439</td>\n",
       "      <td>-1.574594</td>\n",
       "    </tr>\n",
       "    <tr>\n",
       "      <th>D</th>\n",
       "      <td>1.143517</td>\n",
       "      <td>-1.542120</td>\n",
       "      <td>-0.154228</td>\n",
       "      <td>-1.917655</td>\n",
       "      <td>-0.124700</td>\n",
       "    </tr>\n",
       "  </tbody>\n",
       "</table>\n",
       "</div>"
      ],
      "text/plain": [
       "         Ai      Ruby      Kana      Aqua     Akane\n",
       "A -0.112856  2.051363 -0.036231 -0.019784 -2.705617\n",
       "B -1.062672  1.312714 -0.212791  0.961455  0.165718\n",
       "C  0.799515 -2.445938  0.575135  0.336439 -1.574594\n",
       "D  1.143517 -1.542120 -0.154228 -1.917655 -0.124700"
      ]
     },
     "execution_count": 28,
     "metadata": {},
     "output_type": "execute_result"
    }
   ],
   "source": [
    "df.drop('E')"
   ]
  },
  {
   "cell_type": "code",
   "execution_count": 29,
   "id": "0b1d53d6",
   "metadata": {},
   "outputs": [
    {
     "data": {
      "text/html": [
       "<div>\n",
       "<style scoped>\n",
       "    .dataframe tbody tr th:only-of-type {\n",
       "        vertical-align: middle;\n",
       "    }\n",
       "\n",
       "    .dataframe tbody tr th {\n",
       "        vertical-align: top;\n",
       "    }\n",
       "\n",
       "    .dataframe thead th {\n",
       "        text-align: right;\n",
       "    }\n",
       "</style>\n",
       "<table border=\"1\" class=\"dataframe\">\n",
       "  <thead>\n",
       "    <tr style=\"text-align: right;\">\n",
       "      <th></th>\n",
       "      <th>Ai</th>\n",
       "      <th>Ruby</th>\n",
       "      <th>Kana</th>\n",
       "      <th>Aqua</th>\n",
       "      <th>Akane</th>\n",
       "    </tr>\n",
       "  </thead>\n",
       "  <tbody>\n",
       "    <tr>\n",
       "      <th>A</th>\n",
       "      <td>-0.112856</td>\n",
       "      <td>2.051363</td>\n",
       "      <td>-0.036231</td>\n",
       "      <td>-0.019784</td>\n",
       "      <td>-2.705617</td>\n",
       "    </tr>\n",
       "    <tr>\n",
       "      <th>B</th>\n",
       "      <td>-1.062672</td>\n",
       "      <td>1.312714</td>\n",
       "      <td>-0.212791</td>\n",
       "      <td>0.961455</td>\n",
       "      <td>0.165718</td>\n",
       "    </tr>\n",
       "    <tr>\n",
       "      <th>C</th>\n",
       "      <td>0.799515</td>\n",
       "      <td>-2.445938</td>\n",
       "      <td>0.575135</td>\n",
       "      <td>0.336439</td>\n",
       "      <td>-1.574594</td>\n",
       "    </tr>\n",
       "    <tr>\n",
       "      <th>D</th>\n",
       "      <td>1.143517</td>\n",
       "      <td>-1.542120</td>\n",
       "      <td>-0.154228</td>\n",
       "      <td>-1.917655</td>\n",
       "      <td>-0.124700</td>\n",
       "    </tr>\n",
       "    <tr>\n",
       "      <th>E</th>\n",
       "      <td>1.184817</td>\n",
       "      <td>0.851445</td>\n",
       "      <td>-0.927864</td>\n",
       "      <td>-0.679774</td>\n",
       "      <td>1.024385</td>\n",
       "    </tr>\n",
       "  </tbody>\n",
       "</table>\n",
       "</div>"
      ],
      "text/plain": [
       "         Ai      Ruby      Kana      Aqua     Akane\n",
       "A -0.112856  2.051363 -0.036231 -0.019784 -2.705617\n",
       "B -1.062672  1.312714 -0.212791  0.961455  0.165718\n",
       "C  0.799515 -2.445938  0.575135  0.336439 -1.574594\n",
       "D  1.143517 -1.542120 -0.154228 -1.917655 -0.124700\n",
       "E  1.184817  0.851445 -0.927864 -0.679774  1.024385"
      ]
     },
     "execution_count": 29,
     "metadata": {},
     "output_type": "execute_result"
    }
   ],
   "source": [
    "df"
   ]
  },
  {
   "cell_type": "code",
   "execution_count": 38,
   "id": "da08e97f",
   "metadata": {},
   "outputs": [
    {
     "data": {
      "text/plain": [
       "(5, 5)"
      ]
     },
     "execution_count": 38,
     "metadata": {},
     "output_type": "execute_result"
    }
   ],
   "source": [
    "df.shape"
   ]
  },
  {
   "cell_type": "markdown",
   "id": "60769056",
   "metadata": {},
   "source": [
    "#2 ways of selecting rows \n",
    "#loc for for labeled base location \n",
    "#iloc for index space location. for numerical base index"
   ]
  },
  {
   "cell_type": "code",
   "execution_count": 39,
   "id": "a7aab5f8",
   "metadata": {},
   "outputs": [
    {
     "data": {
      "text/plain": [
       "Ai      -0.112856\n",
       "Ruby     2.051363\n",
       "Kana    -0.036231\n",
       "Aqua    -0.019784\n",
       "Akane   -2.705617\n",
       "Name: A, dtype: float64"
      ]
     },
     "execution_count": 39,
     "metadata": {},
     "output_type": "execute_result"
    }
   ],
   "source": [
    "df.loc['A']"
   ]
  },
  {
   "cell_type": "code",
   "execution_count": 44,
   "id": "b30f7c4e",
   "metadata": {},
   "outputs": [
    {
     "data": {
      "text/plain": [
       "Ai      -0.112856\n",
       "Ruby     2.051363\n",
       "Kana    -0.036231\n",
       "Aqua    -0.019784\n",
       "Akane   -2.705617\n",
       "Name: A, dtype: float64"
      ]
     },
     "execution_count": 44,
     "metadata": {},
     "output_type": "execute_result"
    }
   ],
   "source": [
    "df.iloc[0]"
   ]
  },
  {
   "cell_type": "markdown",
   "id": "290d8c91",
   "metadata": {},
   "source": [
    "#row comma column notation"
   ]
  },
  {
   "cell_type": "code",
   "execution_count": 43,
   "id": "f50b1f48",
   "metadata": {},
   "outputs": [
    {
     "data": {
      "text/plain": [
       "0.33643863489474635"
      ]
     },
     "execution_count": 43,
     "metadata": {},
     "output_type": "execute_result"
    }
   ],
   "source": [
    "df.loc['C','Aqua']"
   ]
  },
  {
   "cell_type": "markdown",
   "id": "759d6cc8",
   "metadata": {},
   "source": [
    "# Conditional Selection"
   ]
  },
  {
   "cell_type": "code",
   "execution_count": 45,
   "id": "0bdd0ba6",
   "metadata": {},
   "outputs": [
    {
     "data": {
      "text/html": [
       "<div>\n",
       "<style scoped>\n",
       "    .dataframe tbody tr th:only-of-type {\n",
       "        vertical-align: middle;\n",
       "    }\n",
       "\n",
       "    .dataframe tbody tr th {\n",
       "        vertical-align: top;\n",
       "    }\n",
       "\n",
       "    .dataframe thead th {\n",
       "        text-align: right;\n",
       "    }\n",
       "</style>\n",
       "<table border=\"1\" class=\"dataframe\">\n",
       "  <thead>\n",
       "    <tr style=\"text-align: right;\">\n",
       "      <th></th>\n",
       "      <th>Ai</th>\n",
       "      <th>Ruby</th>\n",
       "      <th>Kana</th>\n",
       "      <th>Aqua</th>\n",
       "      <th>Akane</th>\n",
       "    </tr>\n",
       "  </thead>\n",
       "  <tbody>\n",
       "    <tr>\n",
       "      <th>A</th>\n",
       "      <td>False</td>\n",
       "      <td>True</td>\n",
       "      <td>False</td>\n",
       "      <td>False</td>\n",
       "      <td>False</td>\n",
       "    </tr>\n",
       "    <tr>\n",
       "      <th>B</th>\n",
       "      <td>False</td>\n",
       "      <td>True</td>\n",
       "      <td>False</td>\n",
       "      <td>True</td>\n",
       "      <td>True</td>\n",
       "    </tr>\n",
       "    <tr>\n",
       "      <th>C</th>\n",
       "      <td>True</td>\n",
       "      <td>False</td>\n",
       "      <td>True</td>\n",
       "      <td>True</td>\n",
       "      <td>False</td>\n",
       "    </tr>\n",
       "    <tr>\n",
       "      <th>D</th>\n",
       "      <td>True</td>\n",
       "      <td>False</td>\n",
       "      <td>False</td>\n",
       "      <td>False</td>\n",
       "      <td>False</td>\n",
       "    </tr>\n",
       "    <tr>\n",
       "      <th>E</th>\n",
       "      <td>True</td>\n",
       "      <td>True</td>\n",
       "      <td>False</td>\n",
       "      <td>False</td>\n",
       "      <td>True</td>\n",
       "    </tr>\n",
       "  </tbody>\n",
       "</table>\n",
       "</div>"
      ],
      "text/plain": [
       "      Ai   Ruby   Kana   Aqua  Akane\n",
       "A  False   True  False  False  False\n",
       "B  False   True  False   True   True\n",
       "C   True  False   True   True  False\n",
       "D   True  False  False  False  False\n",
       "E   True   True  False  False   True"
      ]
     },
     "execution_count": 45,
     "metadata": {},
     "output_type": "execute_result"
    }
   ],
   "source": [
    "df > 0"
   ]
  },
  {
   "cell_type": "code",
   "execution_count": 46,
   "id": "00aa3175",
   "metadata": {},
   "outputs": [],
   "source": [
    "booldf = df >0"
   ]
  },
  {
   "cell_type": "code",
   "execution_count": 47,
   "id": "2aac6620",
   "metadata": {},
   "outputs": [
    {
     "data": {
      "text/html": [
       "<div>\n",
       "<style scoped>\n",
       "    .dataframe tbody tr th:only-of-type {\n",
       "        vertical-align: middle;\n",
       "    }\n",
       "\n",
       "    .dataframe tbody tr th {\n",
       "        vertical-align: top;\n",
       "    }\n",
       "\n",
       "    .dataframe thead th {\n",
       "        text-align: right;\n",
       "    }\n",
       "</style>\n",
       "<table border=\"1\" class=\"dataframe\">\n",
       "  <thead>\n",
       "    <tr style=\"text-align: right;\">\n",
       "      <th></th>\n",
       "      <th>Ai</th>\n",
       "      <th>Ruby</th>\n",
       "      <th>Kana</th>\n",
       "      <th>Aqua</th>\n",
       "      <th>Akane</th>\n",
       "    </tr>\n",
       "  </thead>\n",
       "  <tbody>\n",
       "    <tr>\n",
       "      <th>A</th>\n",
       "      <td>NaN</td>\n",
       "      <td>2.051363</td>\n",
       "      <td>NaN</td>\n",
       "      <td>NaN</td>\n",
       "      <td>NaN</td>\n",
       "    </tr>\n",
       "    <tr>\n",
       "      <th>B</th>\n",
       "      <td>NaN</td>\n",
       "      <td>1.312714</td>\n",
       "      <td>NaN</td>\n",
       "      <td>0.961455</td>\n",
       "      <td>0.165718</td>\n",
       "    </tr>\n",
       "    <tr>\n",
       "      <th>C</th>\n",
       "      <td>0.799515</td>\n",
       "      <td>NaN</td>\n",
       "      <td>0.575135</td>\n",
       "      <td>0.336439</td>\n",
       "      <td>NaN</td>\n",
       "    </tr>\n",
       "    <tr>\n",
       "      <th>D</th>\n",
       "      <td>1.143517</td>\n",
       "      <td>NaN</td>\n",
       "      <td>NaN</td>\n",
       "      <td>NaN</td>\n",
       "      <td>NaN</td>\n",
       "    </tr>\n",
       "    <tr>\n",
       "      <th>E</th>\n",
       "      <td>1.184817</td>\n",
       "      <td>0.851445</td>\n",
       "      <td>NaN</td>\n",
       "      <td>NaN</td>\n",
       "      <td>1.024385</td>\n",
       "    </tr>\n",
       "  </tbody>\n",
       "</table>\n",
       "</div>"
      ],
      "text/plain": [
       "         Ai      Ruby      Kana      Aqua     Akane\n",
       "A       NaN  2.051363       NaN       NaN       NaN\n",
       "B       NaN  1.312714       NaN  0.961455  0.165718\n",
       "C  0.799515       NaN  0.575135  0.336439       NaN\n",
       "D  1.143517       NaN       NaN       NaN       NaN\n",
       "E  1.184817  0.851445       NaN       NaN  1.024385"
      ]
     },
     "execution_count": 47,
     "metadata": {},
     "output_type": "execute_result"
    }
   ],
   "source": [
    "df[booldf]"
   ]
  },
  {
   "cell_type": "code",
   "execution_count": 49,
   "id": "e49f8826",
   "metadata": {},
   "outputs": [
    {
     "data": {
      "text/html": [
       "<div>\n",
       "<style scoped>\n",
       "    .dataframe tbody tr th:only-of-type {\n",
       "        vertical-align: middle;\n",
       "    }\n",
       "\n",
       "    .dataframe tbody tr th {\n",
       "        vertical-align: top;\n",
       "    }\n",
       "\n",
       "    .dataframe thead th {\n",
       "        text-align: right;\n",
       "    }\n",
       "</style>\n",
       "<table border=\"1\" class=\"dataframe\">\n",
       "  <thead>\n",
       "    <tr style=\"text-align: right;\">\n",
       "      <th></th>\n",
       "      <th>Ai</th>\n",
       "      <th>Ruby</th>\n",
       "      <th>Kana</th>\n",
       "      <th>Aqua</th>\n",
       "      <th>Akane</th>\n",
       "    </tr>\n",
       "  </thead>\n",
       "  <tbody>\n",
       "    <tr>\n",
       "      <th>A</th>\n",
       "      <td>NaN</td>\n",
       "      <td>2.051363</td>\n",
       "      <td>NaN</td>\n",
       "      <td>NaN</td>\n",
       "      <td>NaN</td>\n",
       "    </tr>\n",
       "    <tr>\n",
       "      <th>B</th>\n",
       "      <td>NaN</td>\n",
       "      <td>1.312714</td>\n",
       "      <td>NaN</td>\n",
       "      <td>0.961455</td>\n",
       "      <td>0.165718</td>\n",
       "    </tr>\n",
       "    <tr>\n",
       "      <th>C</th>\n",
       "      <td>0.799515</td>\n",
       "      <td>NaN</td>\n",
       "      <td>0.575135</td>\n",
       "      <td>0.336439</td>\n",
       "      <td>NaN</td>\n",
       "    </tr>\n",
       "    <tr>\n",
       "      <th>D</th>\n",
       "      <td>1.143517</td>\n",
       "      <td>NaN</td>\n",
       "      <td>NaN</td>\n",
       "      <td>NaN</td>\n",
       "      <td>NaN</td>\n",
       "    </tr>\n",
       "    <tr>\n",
       "      <th>E</th>\n",
       "      <td>1.184817</td>\n",
       "      <td>0.851445</td>\n",
       "      <td>NaN</td>\n",
       "      <td>NaN</td>\n",
       "      <td>1.024385</td>\n",
       "    </tr>\n",
       "  </tbody>\n",
       "</table>\n",
       "</div>"
      ],
      "text/plain": [
       "         Ai      Ruby      Kana      Aqua     Akane\n",
       "A       NaN  2.051363       NaN       NaN       NaN\n",
       "B       NaN  1.312714       NaN  0.961455  0.165718\n",
       "C  0.799515       NaN  0.575135  0.336439       NaN\n",
       "D  1.143517       NaN       NaN       NaN       NaN\n",
       "E  1.184817  0.851445       NaN       NaN  1.024385"
      ]
     },
     "execution_count": 49,
     "metadata": {},
     "output_type": "execute_result"
    }
   ],
   "source": [
    "df[df>0]"
   ]
  },
  {
   "cell_type": "code",
   "execution_count": 50,
   "id": "f90f6abb",
   "metadata": {},
   "outputs": [
    {
     "data": {
      "text/html": [
       "<div>\n",
       "<style scoped>\n",
       "    .dataframe tbody tr th:only-of-type {\n",
       "        vertical-align: middle;\n",
       "    }\n",
       "\n",
       "    .dataframe tbody tr th {\n",
       "        vertical-align: top;\n",
       "    }\n",
       "\n",
       "    .dataframe thead th {\n",
       "        text-align: right;\n",
       "    }\n",
       "</style>\n",
       "<table border=\"1\" class=\"dataframe\">\n",
       "  <thead>\n",
       "    <tr style=\"text-align: right;\">\n",
       "      <th></th>\n",
       "      <th>Ai</th>\n",
       "      <th>Ruby</th>\n",
       "      <th>Kana</th>\n",
       "      <th>Aqua</th>\n",
       "      <th>Akane</th>\n",
       "    </tr>\n",
       "  </thead>\n",
       "  <tbody>\n",
       "    <tr>\n",
       "      <th>A</th>\n",
       "      <td>-0.112856</td>\n",
       "      <td>2.051363</td>\n",
       "      <td>-0.036231</td>\n",
       "      <td>-0.019784</td>\n",
       "      <td>-2.705617</td>\n",
       "    </tr>\n",
       "    <tr>\n",
       "      <th>B</th>\n",
       "      <td>-1.062672</td>\n",
       "      <td>1.312714</td>\n",
       "      <td>-0.212791</td>\n",
       "      <td>0.961455</td>\n",
       "      <td>0.165718</td>\n",
       "    </tr>\n",
       "    <tr>\n",
       "      <th>C</th>\n",
       "      <td>0.799515</td>\n",
       "      <td>-2.445938</td>\n",
       "      <td>0.575135</td>\n",
       "      <td>0.336439</td>\n",
       "      <td>-1.574594</td>\n",
       "    </tr>\n",
       "    <tr>\n",
       "      <th>D</th>\n",
       "      <td>1.143517</td>\n",
       "      <td>-1.542120</td>\n",
       "      <td>-0.154228</td>\n",
       "      <td>-1.917655</td>\n",
       "      <td>-0.124700</td>\n",
       "    </tr>\n",
       "    <tr>\n",
       "      <th>E</th>\n",
       "      <td>1.184817</td>\n",
       "      <td>0.851445</td>\n",
       "      <td>-0.927864</td>\n",
       "      <td>-0.679774</td>\n",
       "      <td>1.024385</td>\n",
       "    </tr>\n",
       "  </tbody>\n",
       "</table>\n",
       "</div>"
      ],
      "text/plain": [
       "         Ai      Ruby      Kana      Aqua     Akane\n",
       "A -0.112856  2.051363 -0.036231 -0.019784 -2.705617\n",
       "B -1.062672  1.312714 -0.212791  0.961455  0.165718\n",
       "C  0.799515 -2.445938  0.575135  0.336439 -1.574594\n",
       "D  1.143517 -1.542120 -0.154228 -1.917655 -0.124700\n",
       "E  1.184817  0.851445 -0.927864 -0.679774  1.024385"
      ]
     },
     "execution_count": 50,
     "metadata": {},
     "output_type": "execute_result"
    }
   ],
   "source": [
    "df"
   ]
  },
  {
   "cell_type": "code",
   "execution_count": 51,
   "id": "5cf7b9c3",
   "metadata": {},
   "outputs": [
    {
     "data": {
      "text/plain": [
       "A    False\n",
       "B     True\n",
       "C     True\n",
       "D    False\n",
       "E    False\n",
       "Name: Aqua, dtype: bool"
      ]
     },
     "execution_count": 51,
     "metadata": {},
     "output_type": "execute_result"
    }
   ],
   "source": [
    "df['Aqua']>0"
   ]
  },
  {
   "cell_type": "code",
   "execution_count": 52,
   "id": "f7075190",
   "metadata": {},
   "outputs": [
    {
     "data": {
      "text/html": [
       "<div>\n",
       "<style scoped>\n",
       "    .dataframe tbody tr th:only-of-type {\n",
       "        vertical-align: middle;\n",
       "    }\n",
       "\n",
       "    .dataframe tbody tr th {\n",
       "        vertical-align: top;\n",
       "    }\n",
       "\n",
       "    .dataframe thead th {\n",
       "        text-align: right;\n",
       "    }\n",
       "</style>\n",
       "<table border=\"1\" class=\"dataframe\">\n",
       "  <thead>\n",
       "    <tr style=\"text-align: right;\">\n",
       "      <th></th>\n",
       "      <th>Ai</th>\n",
       "      <th>Ruby</th>\n",
       "      <th>Kana</th>\n",
       "      <th>Aqua</th>\n",
       "      <th>Akane</th>\n",
       "    </tr>\n",
       "  </thead>\n",
       "  <tbody>\n",
       "    <tr>\n",
       "      <th>C</th>\n",
       "      <td>0.799515</td>\n",
       "      <td>-2.445938</td>\n",
       "      <td>0.575135</td>\n",
       "      <td>0.336439</td>\n",
       "      <td>-1.574594</td>\n",
       "    </tr>\n",
       "    <tr>\n",
       "      <th>D</th>\n",
       "      <td>1.143517</td>\n",
       "      <td>-1.542120</td>\n",
       "      <td>-0.154228</td>\n",
       "      <td>-1.917655</td>\n",
       "      <td>-0.124700</td>\n",
       "    </tr>\n",
       "    <tr>\n",
       "      <th>E</th>\n",
       "      <td>1.184817</td>\n",
       "      <td>0.851445</td>\n",
       "      <td>-0.927864</td>\n",
       "      <td>-0.679774</td>\n",
       "      <td>1.024385</td>\n",
       "    </tr>\n",
       "  </tbody>\n",
       "</table>\n",
       "</div>"
      ],
      "text/plain": [
       "         Ai      Ruby      Kana      Aqua     Akane\n",
       "C  0.799515 -2.445938  0.575135  0.336439 -1.574594\n",
       "D  1.143517 -1.542120 -0.154228 -1.917655 -0.124700\n",
       "E  1.184817  0.851445 -0.927864 -0.679774  1.024385"
      ]
     },
     "execution_count": 52,
     "metadata": {},
     "output_type": "execute_result"
    }
   ],
   "source": [
    "df[df['Ai']>0]"
   ]
  },
  {
   "cell_type": "markdown",
   "id": "c4836a04",
   "metadata": {},
   "source": [
    "#it return C,D,E rows series values. rows for ai that stated to be true"
   ]
  },
  {
   "cell_type": "code",
   "execution_count": 54,
   "id": "dcefb108",
   "metadata": {},
   "outputs": [
    {
     "data": {
      "text/html": [
       "<div>\n",
       "<style scoped>\n",
       "    .dataframe tbody tr th:only-of-type {\n",
       "        vertical-align: middle;\n",
       "    }\n",
       "\n",
       "    .dataframe tbody tr th {\n",
       "        vertical-align: top;\n",
       "    }\n",
       "\n",
       "    .dataframe thead th {\n",
       "        text-align: right;\n",
       "    }\n",
       "</style>\n",
       "<table border=\"1\" class=\"dataframe\">\n",
       "  <thead>\n",
       "    <tr style=\"text-align: right;\">\n",
       "      <th></th>\n",
       "      <th>Ai</th>\n",
       "      <th>Ruby</th>\n",
       "      <th>Kana</th>\n",
       "      <th>Aqua</th>\n",
       "      <th>Akane</th>\n",
       "    </tr>\n",
       "  </thead>\n",
       "  <tbody>\n",
       "    <tr>\n",
       "      <th>A</th>\n",
       "      <td>-0.112856</td>\n",
       "      <td>2.051363</td>\n",
       "      <td>-0.036231</td>\n",
       "      <td>-0.019784</td>\n",
       "      <td>-2.705617</td>\n",
       "    </tr>\n",
       "    <tr>\n",
       "      <th>B</th>\n",
       "      <td>-1.062672</td>\n",
       "      <td>1.312714</td>\n",
       "      <td>-0.212791</td>\n",
       "      <td>0.961455</td>\n",
       "      <td>0.165718</td>\n",
       "    </tr>\n",
       "  </tbody>\n",
       "</table>\n",
       "</div>"
      ],
      "text/plain": [
       "         Ai      Ruby      Kana      Aqua     Akane\n",
       "A -0.112856  2.051363 -0.036231 -0.019784 -2.705617\n",
       "B -1.062672  1.312714 -0.212791  0.961455  0.165718"
      ]
     },
     "execution_count": 54,
     "metadata": {},
     "output_type": "execute_result"
    }
   ],
   "source": [
    "df[df['Ai']<0]"
   ]
  },
  {
   "cell_type": "code",
   "execution_count": 56,
   "id": "f27a4d60",
   "metadata": {},
   "outputs": [],
   "source": [
    "resultdf = df[df['Ai']<0]"
   ]
  },
  {
   "cell_type": "code",
   "execution_count": 57,
   "id": "db825940",
   "metadata": {},
   "outputs": [
    {
     "data": {
      "text/html": [
       "<div>\n",
       "<style scoped>\n",
       "    .dataframe tbody tr th:only-of-type {\n",
       "        vertical-align: middle;\n",
       "    }\n",
       "\n",
       "    .dataframe tbody tr th {\n",
       "        vertical-align: top;\n",
       "    }\n",
       "\n",
       "    .dataframe thead th {\n",
       "        text-align: right;\n",
       "    }\n",
       "</style>\n",
       "<table border=\"1\" class=\"dataframe\">\n",
       "  <thead>\n",
       "    <tr style=\"text-align: right;\">\n",
       "      <th></th>\n",
       "      <th>Ai</th>\n",
       "      <th>Ruby</th>\n",
       "      <th>Kana</th>\n",
       "      <th>Aqua</th>\n",
       "      <th>Akane</th>\n",
       "    </tr>\n",
       "  </thead>\n",
       "  <tbody>\n",
       "    <tr>\n",
       "      <th>A</th>\n",
       "      <td>-0.112856</td>\n",
       "      <td>2.051363</td>\n",
       "      <td>-0.036231</td>\n",
       "      <td>-0.019784</td>\n",
       "      <td>-2.705617</td>\n",
       "    </tr>\n",
       "    <tr>\n",
       "      <th>B</th>\n",
       "      <td>-1.062672</td>\n",
       "      <td>1.312714</td>\n",
       "      <td>-0.212791</td>\n",
       "      <td>0.961455</td>\n",
       "      <td>0.165718</td>\n",
       "    </tr>\n",
       "  </tbody>\n",
       "</table>\n",
       "</div>"
      ],
      "text/plain": [
       "         Ai      Ruby      Kana      Aqua     Akane\n",
       "A -0.112856  2.051363 -0.036231 -0.019784 -2.705617\n",
       "B -1.062672  1.312714 -0.212791  0.961455  0.165718"
      ]
     },
     "execution_count": 57,
     "metadata": {},
     "output_type": "execute_result"
    }
   ],
   "source": [
    "resultdf"
   ]
  },
  {
   "cell_type": "code",
   "execution_count": 58,
   "id": "07d1ede5",
   "metadata": {},
   "outputs": [
    {
     "data": {
      "text/plain": [
       "A   -0.019784\n",
       "B    0.961455\n",
       "Name: Aqua, dtype: float64"
      ]
     },
     "execution_count": 58,
     "metadata": {},
     "output_type": "execute_result"
    }
   ],
   "source": [
    "resultdf['Aqua']"
   ]
  },
  {
   "cell_type": "code",
   "execution_count": 64,
   "id": "94551e63",
   "metadata": {},
   "outputs": [
    {
     "data": {
      "text/html": [
       "<div>\n",
       "<style scoped>\n",
       "    .dataframe tbody tr th:only-of-type {\n",
       "        vertical-align: middle;\n",
       "    }\n",
       "\n",
       "    .dataframe tbody tr th {\n",
       "        vertical-align: top;\n",
       "    }\n",
       "\n",
       "    .dataframe thead th {\n",
       "        text-align: right;\n",
       "    }\n",
       "</style>\n",
       "<table border=\"1\" class=\"dataframe\">\n",
       "  <thead>\n",
       "    <tr style=\"text-align: right;\">\n",
       "      <th></th>\n",
       "      <th>Kana</th>\n",
       "      <th>Akane</th>\n",
       "    </tr>\n",
       "  </thead>\n",
       "  <tbody>\n",
       "    <tr>\n",
       "      <th>B</th>\n",
       "      <td>-0.212791</td>\n",
       "      <td>0.165718</td>\n",
       "    </tr>\n",
       "    <tr>\n",
       "      <th>C</th>\n",
       "      <td>0.575135</td>\n",
       "      <td>-1.574594</td>\n",
       "    </tr>\n",
       "  </tbody>\n",
       "</table>\n",
       "</div>"
      ],
      "text/plain": [
       "       Kana     Akane\n",
       "B -0.212791  0.165718\n",
       "C  0.575135 -1.574594"
      ]
     },
     "execution_count": 64,
     "metadata": {},
     "output_type": "execute_result"
    }
   ],
   "source": [
    "df[df['Aqua']>0][['Kana','Akane']]"
   ]
  },
  {
   "cell_type": "markdown",
   "id": "a0dbcab6",
   "metadata": {},
   "source": [
    "#this one liner code. df[df['Aqua']>0][['Kana','Akane']]\n",
    "#it is like getting the values of kana and akane from row of aqua that is stated to be true\n",
    "#booleanseries = df['Aqua']>0\n",
    "#result =df[booleanseries]\n",
    "#column = ['Kana','Akane']"
   ]
  },
  {
   "cell_type": "markdown",
   "id": "d946a605",
   "metadata": {},
   "source": [
    "# Multiple condition"
   ]
  },
  {
   "cell_type": "code",
   "execution_count": 78,
   "id": "cde1dfb9",
   "metadata": {},
   "outputs": [
    {
     "data": {
      "text/html": [
       "<div>\n",
       "<style scoped>\n",
       "    .dataframe tbody tr th:only-of-type {\n",
       "        vertical-align: middle;\n",
       "    }\n",
       "\n",
       "    .dataframe tbody tr th {\n",
       "        vertical-align: top;\n",
       "    }\n",
       "\n",
       "    .dataframe thead th {\n",
       "        text-align: right;\n",
       "    }\n",
       "</style>\n",
       "<table border=\"1\" class=\"dataframe\">\n",
       "  <thead>\n",
       "    <tr style=\"text-align: right;\">\n",
       "      <th></th>\n",
       "      <th>Ai</th>\n",
       "      <th>Ruby</th>\n",
       "      <th>Kana</th>\n",
       "      <th>Aqua</th>\n",
       "      <th>Akane</th>\n",
       "    </tr>\n",
       "  </thead>\n",
       "  <tbody>\n",
       "    <tr>\n",
       "      <th>B</th>\n",
       "      <td>-1.062672</td>\n",
       "      <td>1.312714</td>\n",
       "      <td>-0.212791</td>\n",
       "      <td>0.961455</td>\n",
       "      <td>0.165718</td>\n",
       "    </tr>\n",
       "    <tr>\n",
       "      <th>C</th>\n",
       "      <td>0.799515</td>\n",
       "      <td>-2.445938</td>\n",
       "      <td>0.575135</td>\n",
       "      <td>0.336439</td>\n",
       "      <td>-1.574594</td>\n",
       "    </tr>\n",
       "  </tbody>\n",
       "</table>\n",
       "</div>"
      ],
      "text/plain": [
       "         Ai      Ruby      Kana      Aqua     Akane\n",
       "B -1.062672  1.312714 -0.212791  0.961455  0.165718\n",
       "C  0.799515 -2.445938  0.575135  0.336439 -1.574594"
      ]
     },
     "execution_count": 78,
     "metadata": {},
     "output_type": "execute_result"
    }
   ],
   "source": [
    "df[(df['Aqua']>0) & (df['Aqua']>0)]"
   ]
  },
  {
   "cell_type": "code",
   "execution_count": 73,
   "id": "8ec1eede",
   "metadata": {},
   "outputs": [
    {
     "data": {
      "text/plain": [
       "False"
      ]
     },
     "execution_count": 73,
     "metadata": {},
     "output_type": "execute_result"
    }
   ],
   "source": [
    "True and False"
   ]
  },
  {
   "cell_type": "code",
   "execution_count": 79,
   "id": "76d46a35",
   "metadata": {},
   "outputs": [
    {
     "data": {
      "text/html": [
       "<div>\n",
       "<style scoped>\n",
       "    .dataframe tbody tr th:only-of-type {\n",
       "        vertical-align: middle;\n",
       "    }\n",
       "\n",
       "    .dataframe tbody tr th {\n",
       "        vertical-align: top;\n",
       "    }\n",
       "\n",
       "    .dataframe thead th {\n",
       "        text-align: right;\n",
       "    }\n",
       "</style>\n",
       "<table border=\"1\" class=\"dataframe\">\n",
       "  <thead>\n",
       "    <tr style=\"text-align: right;\">\n",
       "      <th></th>\n",
       "      <th>Ai</th>\n",
       "      <th>Ruby</th>\n",
       "      <th>Kana</th>\n",
       "      <th>Aqua</th>\n",
       "      <th>Akane</th>\n",
       "    </tr>\n",
       "  </thead>\n",
       "  <tbody>\n",
       "    <tr>\n",
       "      <th>B</th>\n",
       "      <td>-1.062672</td>\n",
       "      <td>1.312714</td>\n",
       "      <td>-0.212791</td>\n",
       "      <td>0.961455</td>\n",
       "      <td>0.165718</td>\n",
       "    </tr>\n",
       "    <tr>\n",
       "      <th>C</th>\n",
       "      <td>0.799515</td>\n",
       "      <td>-2.445938</td>\n",
       "      <td>0.575135</td>\n",
       "      <td>0.336439</td>\n",
       "      <td>-1.574594</td>\n",
       "    </tr>\n",
       "  </tbody>\n",
       "</table>\n",
       "</div>"
      ],
      "text/plain": [
       "         Ai      Ruby      Kana      Aqua     Akane\n",
       "B -1.062672  1.312714 -0.212791  0.961455  0.165718\n",
       "C  0.799515 -2.445938  0.575135  0.336439 -1.574594"
      ]
     },
     "execution_count": 79,
     "metadata": {},
     "output_type": "execute_result"
    }
   ],
   "source": [
    "df[(df['Aqua']>0) | (df['Aqua']>0)]"
   ]
  },
  {
   "cell_type": "markdown",
   "id": "eda102e3",
   "metadata": {},
   "source": [
    "#note that to do multiple conditions such as example above to avoid any error use & for and. | for or\n",
    "#use () to show separations"
   ]
  },
  {
   "cell_type": "code",
   "execution_count": 82,
   "id": "c07b3837",
   "metadata": {},
   "outputs": [],
   "source": [
    "#Reset index \n",
    "#it will reset into numerical row value"
   ]
  },
  {
   "cell_type": "code",
   "execution_count": 81,
   "id": "f4d53439",
   "metadata": {},
   "outputs": [
    {
     "data": {
      "text/html": [
       "<div>\n",
       "<style scoped>\n",
       "    .dataframe tbody tr th:only-of-type {\n",
       "        vertical-align: middle;\n",
       "    }\n",
       "\n",
       "    .dataframe tbody tr th {\n",
       "        vertical-align: top;\n",
       "    }\n",
       "\n",
       "    .dataframe thead th {\n",
       "        text-align: right;\n",
       "    }\n",
       "</style>\n",
       "<table border=\"1\" class=\"dataframe\">\n",
       "  <thead>\n",
       "    <tr style=\"text-align: right;\">\n",
       "      <th></th>\n",
       "      <th>index</th>\n",
       "      <th>Ai</th>\n",
       "      <th>Ruby</th>\n",
       "      <th>Kana</th>\n",
       "      <th>Aqua</th>\n",
       "      <th>Akane</th>\n",
       "    </tr>\n",
       "  </thead>\n",
       "  <tbody>\n",
       "    <tr>\n",
       "      <th>0</th>\n",
       "      <td>A</td>\n",
       "      <td>-0.112856</td>\n",
       "      <td>2.051363</td>\n",
       "      <td>-0.036231</td>\n",
       "      <td>-0.019784</td>\n",
       "      <td>-2.705617</td>\n",
       "    </tr>\n",
       "    <tr>\n",
       "      <th>1</th>\n",
       "      <td>B</td>\n",
       "      <td>-1.062672</td>\n",
       "      <td>1.312714</td>\n",
       "      <td>-0.212791</td>\n",
       "      <td>0.961455</td>\n",
       "      <td>0.165718</td>\n",
       "    </tr>\n",
       "    <tr>\n",
       "      <th>2</th>\n",
       "      <td>C</td>\n",
       "      <td>0.799515</td>\n",
       "      <td>-2.445938</td>\n",
       "      <td>0.575135</td>\n",
       "      <td>0.336439</td>\n",
       "      <td>-1.574594</td>\n",
       "    </tr>\n",
       "    <tr>\n",
       "      <th>3</th>\n",
       "      <td>D</td>\n",
       "      <td>1.143517</td>\n",
       "      <td>-1.542120</td>\n",
       "      <td>-0.154228</td>\n",
       "      <td>-1.917655</td>\n",
       "      <td>-0.124700</td>\n",
       "    </tr>\n",
       "    <tr>\n",
       "      <th>4</th>\n",
       "      <td>E</td>\n",
       "      <td>1.184817</td>\n",
       "      <td>0.851445</td>\n",
       "      <td>-0.927864</td>\n",
       "      <td>-0.679774</td>\n",
       "      <td>1.024385</td>\n",
       "    </tr>\n",
       "  </tbody>\n",
       "</table>\n",
       "</div>"
      ],
      "text/plain": [
       "  index        Ai      Ruby      Kana      Aqua     Akane\n",
       "0     A -0.112856  2.051363 -0.036231 -0.019784 -2.705617\n",
       "1     B -1.062672  1.312714 -0.212791  0.961455  0.165718\n",
       "2     C  0.799515 -2.445938  0.575135  0.336439 -1.574594\n",
       "3     D  1.143517 -1.542120 -0.154228 -1.917655 -0.124700\n",
       "4     E  1.184817  0.851445 -0.927864 -0.679774  1.024385"
      ]
     },
     "execution_count": 81,
     "metadata": {},
     "output_type": "execute_result"
    }
   ],
   "source": [
    "df.reset_index()"
   ]
  },
  {
   "cell_type": "markdown",
   "id": "b14a2d69",
   "metadata": {},
   "source": [
    "#create new index"
   ]
  },
  {
   "cell_type": "code",
   "execution_count": 86,
   "id": "701150d6",
   "metadata": {},
   "outputs": [],
   "source": [
    "newind = 'N E W I D'.split()"
   ]
  },
  {
   "cell_type": "code",
   "execution_count": 87,
   "id": "3a3efa02",
   "metadata": {},
   "outputs": [
    {
     "data": {
      "text/plain": [
       "['N', 'E', 'W', 'I', 'D']"
      ]
     },
     "execution_count": 87,
     "metadata": {},
     "output_type": "execute_result"
    }
   ],
   "source": [
    "newind"
   ]
  },
  {
   "cell_type": "code",
   "execution_count": 88,
   "id": "ed3c2f94",
   "metadata": {},
   "outputs": [
    {
     "data": {
      "text/html": [
       "<div>\n",
       "<style scoped>\n",
       "    .dataframe tbody tr th:only-of-type {\n",
       "        vertical-align: middle;\n",
       "    }\n",
       "\n",
       "    .dataframe tbody tr th {\n",
       "        vertical-align: top;\n",
       "    }\n",
       "\n",
       "    .dataframe thead th {\n",
       "        text-align: right;\n",
       "    }\n",
       "</style>\n",
       "<table border=\"1\" class=\"dataframe\">\n",
       "  <thead>\n",
       "    <tr style=\"text-align: right;\">\n",
       "      <th></th>\n",
       "      <th>Ai</th>\n",
       "      <th>Ruby</th>\n",
       "      <th>Kana</th>\n",
       "      <th>Aqua</th>\n",
       "      <th>Akane</th>\n",
       "    </tr>\n",
       "  </thead>\n",
       "  <tbody>\n",
       "    <tr>\n",
       "      <th>A</th>\n",
       "      <td>-0.112856</td>\n",
       "      <td>2.051363</td>\n",
       "      <td>-0.036231</td>\n",
       "      <td>-0.019784</td>\n",
       "      <td>-2.705617</td>\n",
       "    </tr>\n",
       "    <tr>\n",
       "      <th>B</th>\n",
       "      <td>-1.062672</td>\n",
       "      <td>1.312714</td>\n",
       "      <td>-0.212791</td>\n",
       "      <td>0.961455</td>\n",
       "      <td>0.165718</td>\n",
       "    </tr>\n",
       "    <tr>\n",
       "      <th>C</th>\n",
       "      <td>0.799515</td>\n",
       "      <td>-2.445938</td>\n",
       "      <td>0.575135</td>\n",
       "      <td>0.336439</td>\n",
       "      <td>-1.574594</td>\n",
       "    </tr>\n",
       "    <tr>\n",
       "      <th>D</th>\n",
       "      <td>1.143517</td>\n",
       "      <td>-1.542120</td>\n",
       "      <td>-0.154228</td>\n",
       "      <td>-1.917655</td>\n",
       "      <td>-0.124700</td>\n",
       "    </tr>\n",
       "    <tr>\n",
       "      <th>E</th>\n",
       "      <td>1.184817</td>\n",
       "      <td>0.851445</td>\n",
       "      <td>-0.927864</td>\n",
       "      <td>-0.679774</td>\n",
       "      <td>1.024385</td>\n",
       "    </tr>\n",
       "  </tbody>\n",
       "</table>\n",
       "</div>"
      ],
      "text/plain": [
       "         Ai      Ruby      Kana      Aqua     Akane\n",
       "A -0.112856  2.051363 -0.036231 -0.019784 -2.705617\n",
       "B -1.062672  1.312714 -0.212791  0.961455  0.165718\n",
       "C  0.799515 -2.445938  0.575135  0.336439 -1.574594\n",
       "D  1.143517 -1.542120 -0.154228 -1.917655 -0.124700\n",
       "E  1.184817  0.851445 -0.927864 -0.679774  1.024385"
      ]
     },
     "execution_count": 88,
     "metadata": {},
     "output_type": "execute_result"
    }
   ],
   "source": [
    "df"
   ]
  },
  {
   "cell_type": "code",
   "execution_count": 89,
   "id": "d5f4ce27",
   "metadata": {},
   "outputs": [],
   "source": [
    "df['new_index'] = newind"
   ]
  },
  {
   "cell_type": "code",
   "execution_count": 90,
   "id": "86be314c",
   "metadata": {},
   "outputs": [
    {
     "data": {
      "text/html": [
       "<div>\n",
       "<style scoped>\n",
       "    .dataframe tbody tr th:only-of-type {\n",
       "        vertical-align: middle;\n",
       "    }\n",
       "\n",
       "    .dataframe tbody tr th {\n",
       "        vertical-align: top;\n",
       "    }\n",
       "\n",
       "    .dataframe thead th {\n",
       "        text-align: right;\n",
       "    }\n",
       "</style>\n",
       "<table border=\"1\" class=\"dataframe\">\n",
       "  <thead>\n",
       "    <tr style=\"text-align: right;\">\n",
       "      <th></th>\n",
       "      <th>Ai</th>\n",
       "      <th>Ruby</th>\n",
       "      <th>Kana</th>\n",
       "      <th>Aqua</th>\n",
       "      <th>Akane</th>\n",
       "      <th>new_index</th>\n",
       "    </tr>\n",
       "  </thead>\n",
       "  <tbody>\n",
       "    <tr>\n",
       "      <th>A</th>\n",
       "      <td>-0.112856</td>\n",
       "      <td>2.051363</td>\n",
       "      <td>-0.036231</td>\n",
       "      <td>-0.019784</td>\n",
       "      <td>-2.705617</td>\n",
       "      <td>N</td>\n",
       "    </tr>\n",
       "    <tr>\n",
       "      <th>B</th>\n",
       "      <td>-1.062672</td>\n",
       "      <td>1.312714</td>\n",
       "      <td>-0.212791</td>\n",
       "      <td>0.961455</td>\n",
       "      <td>0.165718</td>\n",
       "      <td>E</td>\n",
       "    </tr>\n",
       "    <tr>\n",
       "      <th>C</th>\n",
       "      <td>0.799515</td>\n",
       "      <td>-2.445938</td>\n",
       "      <td>0.575135</td>\n",
       "      <td>0.336439</td>\n",
       "      <td>-1.574594</td>\n",
       "      <td>W</td>\n",
       "    </tr>\n",
       "    <tr>\n",
       "      <th>D</th>\n",
       "      <td>1.143517</td>\n",
       "      <td>-1.542120</td>\n",
       "      <td>-0.154228</td>\n",
       "      <td>-1.917655</td>\n",
       "      <td>-0.124700</td>\n",
       "      <td>I</td>\n",
       "    </tr>\n",
       "    <tr>\n",
       "      <th>E</th>\n",
       "      <td>1.184817</td>\n",
       "      <td>0.851445</td>\n",
       "      <td>-0.927864</td>\n",
       "      <td>-0.679774</td>\n",
       "      <td>1.024385</td>\n",
       "      <td>D</td>\n",
       "    </tr>\n",
       "  </tbody>\n",
       "</table>\n",
       "</div>"
      ],
      "text/plain": [
       "         Ai      Ruby      Kana      Aqua     Akane new_index\n",
       "A -0.112856  2.051363 -0.036231 -0.019784 -2.705617         N\n",
       "B -1.062672  1.312714 -0.212791  0.961455  0.165718         E\n",
       "C  0.799515 -2.445938  0.575135  0.336439 -1.574594         W\n",
       "D  1.143517 -1.542120 -0.154228 -1.917655 -0.124700         I\n",
       "E  1.184817  0.851445 -0.927864 -0.679774  1.024385         D"
      ]
     },
     "execution_count": 90,
     "metadata": {},
     "output_type": "execute_result"
    }
   ],
   "source": [
    "df"
   ]
  },
  {
   "cell_type": "markdown",
   "id": "70162c9f",
   "metadata": {},
   "source": [
    "#set index\n",
    "#covert your column that you want to be new index"
   ]
  },
  {
   "cell_type": "code",
   "execution_count": 91,
   "id": "8814909a",
   "metadata": {},
   "outputs": [
    {
     "data": {
      "text/html": [
       "<div>\n",
       "<style scoped>\n",
       "    .dataframe tbody tr th:only-of-type {\n",
       "        vertical-align: middle;\n",
       "    }\n",
       "\n",
       "    .dataframe tbody tr th {\n",
       "        vertical-align: top;\n",
       "    }\n",
       "\n",
       "    .dataframe thead th {\n",
       "        text-align: right;\n",
       "    }\n",
       "</style>\n",
       "<table border=\"1\" class=\"dataframe\">\n",
       "  <thead>\n",
       "    <tr style=\"text-align: right;\">\n",
       "      <th></th>\n",
       "      <th>Ai</th>\n",
       "      <th>Ruby</th>\n",
       "      <th>Kana</th>\n",
       "      <th>Aqua</th>\n",
       "      <th>Akane</th>\n",
       "    </tr>\n",
       "    <tr>\n",
       "      <th>new_index</th>\n",
       "      <th></th>\n",
       "      <th></th>\n",
       "      <th></th>\n",
       "      <th></th>\n",
       "      <th></th>\n",
       "    </tr>\n",
       "  </thead>\n",
       "  <tbody>\n",
       "    <tr>\n",
       "      <th>N</th>\n",
       "      <td>-0.112856</td>\n",
       "      <td>2.051363</td>\n",
       "      <td>-0.036231</td>\n",
       "      <td>-0.019784</td>\n",
       "      <td>-2.705617</td>\n",
       "    </tr>\n",
       "    <tr>\n",
       "      <th>E</th>\n",
       "      <td>-1.062672</td>\n",
       "      <td>1.312714</td>\n",
       "      <td>-0.212791</td>\n",
       "      <td>0.961455</td>\n",
       "      <td>0.165718</td>\n",
       "    </tr>\n",
       "    <tr>\n",
       "      <th>W</th>\n",
       "      <td>0.799515</td>\n",
       "      <td>-2.445938</td>\n",
       "      <td>0.575135</td>\n",
       "      <td>0.336439</td>\n",
       "      <td>-1.574594</td>\n",
       "    </tr>\n",
       "    <tr>\n",
       "      <th>I</th>\n",
       "      <td>1.143517</td>\n",
       "      <td>-1.542120</td>\n",
       "      <td>-0.154228</td>\n",
       "      <td>-1.917655</td>\n",
       "      <td>-0.124700</td>\n",
       "    </tr>\n",
       "    <tr>\n",
       "      <th>D</th>\n",
       "      <td>1.184817</td>\n",
       "      <td>0.851445</td>\n",
       "      <td>-0.927864</td>\n",
       "      <td>-0.679774</td>\n",
       "      <td>1.024385</td>\n",
       "    </tr>\n",
       "  </tbody>\n",
       "</table>\n",
       "</div>"
      ],
      "text/plain": [
       "                 Ai      Ruby      Kana      Aqua     Akane\n",
       "new_index                                                  \n",
       "N         -0.112856  2.051363 -0.036231 -0.019784 -2.705617\n",
       "E         -1.062672  1.312714 -0.212791  0.961455  0.165718\n",
       "W          0.799515 -2.445938  0.575135  0.336439 -1.574594\n",
       "I          1.143517 -1.542120 -0.154228 -1.917655 -0.124700\n",
       "D          1.184817  0.851445 -0.927864 -0.679774  1.024385"
      ]
     },
     "execution_count": 91,
     "metadata": {},
     "output_type": "execute_result"
    }
   ],
   "source": [
    "df.set_index('new_index')"
   ]
  },
  {
   "cell_type": "code",
   "execution_count": 94,
   "id": "c70eb393",
   "metadata": {},
   "outputs": [
    {
     "data": {
      "text/html": [
       "<div>\n",
       "<style scoped>\n",
       "    .dataframe tbody tr th:only-of-type {\n",
       "        vertical-align: middle;\n",
       "    }\n",
       "\n",
       "    .dataframe tbody tr th {\n",
       "        vertical-align: top;\n",
       "    }\n",
       "\n",
       "    .dataframe thead th {\n",
       "        text-align: right;\n",
       "    }\n",
       "</style>\n",
       "<table border=\"1\" class=\"dataframe\">\n",
       "  <thead>\n",
       "    <tr style=\"text-align: right;\">\n",
       "      <th></th>\n",
       "      <th>Ai</th>\n",
       "      <th>Ruby</th>\n",
       "      <th>Kana</th>\n",
       "      <th>Aqua</th>\n",
       "      <th>Akane</th>\n",
       "      <th>new_index</th>\n",
       "    </tr>\n",
       "  </thead>\n",
       "  <tbody>\n",
       "    <tr>\n",
       "      <th>A</th>\n",
       "      <td>-0.112856</td>\n",
       "      <td>2.051363</td>\n",
       "      <td>-0.036231</td>\n",
       "      <td>-0.019784</td>\n",
       "      <td>-2.705617</td>\n",
       "      <td>N</td>\n",
       "    </tr>\n",
       "    <tr>\n",
       "      <th>B</th>\n",
       "      <td>-1.062672</td>\n",
       "      <td>1.312714</td>\n",
       "      <td>-0.212791</td>\n",
       "      <td>0.961455</td>\n",
       "      <td>0.165718</td>\n",
       "      <td>E</td>\n",
       "    </tr>\n",
       "    <tr>\n",
       "      <th>C</th>\n",
       "      <td>0.799515</td>\n",
       "      <td>-2.445938</td>\n",
       "      <td>0.575135</td>\n",
       "      <td>0.336439</td>\n",
       "      <td>-1.574594</td>\n",
       "      <td>W</td>\n",
       "    </tr>\n",
       "    <tr>\n",
       "      <th>D</th>\n",
       "      <td>1.143517</td>\n",
       "      <td>-1.542120</td>\n",
       "      <td>-0.154228</td>\n",
       "      <td>-1.917655</td>\n",
       "      <td>-0.124700</td>\n",
       "      <td>I</td>\n",
       "    </tr>\n",
       "    <tr>\n",
       "      <th>E</th>\n",
       "      <td>1.184817</td>\n",
       "      <td>0.851445</td>\n",
       "      <td>-0.927864</td>\n",
       "      <td>-0.679774</td>\n",
       "      <td>1.024385</td>\n",
       "      <td>D</td>\n",
       "    </tr>\n",
       "  </tbody>\n",
       "</table>\n",
       "</div>"
      ],
      "text/plain": [
       "         Ai      Ruby      Kana      Aqua     Akane new_index\n",
       "A -0.112856  2.051363 -0.036231 -0.019784 -2.705617         N\n",
       "B -1.062672  1.312714 -0.212791  0.961455  0.165718         E\n",
       "C  0.799515 -2.445938  0.575135  0.336439 -1.574594         W\n",
       "D  1.143517 -1.542120 -0.154228 -1.917655 -0.124700         I\n",
       "E  1.184817  0.851445 -0.927864 -0.679774  1.024385         D"
      ]
     },
     "execution_count": 94,
     "metadata": {},
     "output_type": "execute_result"
    }
   ],
   "source": [
    "df"
   ]
  },
  {
   "cell_type": "code",
   "execution_count": 93,
   "id": "370d0c7d",
   "metadata": {},
   "outputs": [
    {
     "data": {
      "text/html": [
       "<div>\n",
       "<style scoped>\n",
       "    .dataframe tbody tr th:only-of-type {\n",
       "        vertical-align: middle;\n",
       "    }\n",
       "\n",
       "    .dataframe tbody tr th {\n",
       "        vertical-align: top;\n",
       "    }\n",
       "\n",
       "    .dataframe thead th {\n",
       "        text-align: right;\n",
       "    }\n",
       "</style>\n",
       "<table border=\"1\" class=\"dataframe\">\n",
       "  <thead>\n",
       "    <tr style=\"text-align: right;\">\n",
       "      <th></th>\n",
       "      <th>Kana</th>\n",
       "      <th>Akane</th>\n",
       "    </tr>\n",
       "  </thead>\n",
       "  <tbody>\n",
       "    <tr>\n",
       "      <th>A</th>\n",
       "      <td>-0.036231</td>\n",
       "      <td>-2.705617</td>\n",
       "    </tr>\n",
       "    <tr>\n",
       "      <th>B</th>\n",
       "      <td>-0.212791</td>\n",
       "      <td>0.165718</td>\n",
       "    </tr>\n",
       "    <tr>\n",
       "      <th>E</th>\n",
       "      <td>-0.927864</td>\n",
       "      <td>1.024385</td>\n",
       "    </tr>\n",
       "  </tbody>\n",
       "</table>\n",
       "</div>"
      ],
      "text/plain": [
       "       Kana     Akane\n",
       "A -0.036231 -2.705617\n",
       "B -0.212791  0.165718\n",
       "E -0.927864  1.024385"
      ]
     },
     "execution_count": 93,
     "metadata": {},
     "output_type": "execute_result"
    }
   ],
   "source": [
    "df[df['Ruby']>0][['Kana','Akane']]"
   ]
  },
  {
   "cell_type": "code",
   "execution_count": 101,
   "id": "3a37cf56",
   "metadata": {},
   "outputs": [
    {
     "data": {
      "text/html": [
       "<div>\n",
       "<style scoped>\n",
       "    .dataframe tbody tr th:only-of-type {\n",
       "        vertical-align: middle;\n",
       "    }\n",
       "\n",
       "    .dataframe tbody tr th {\n",
       "        vertical-align: top;\n",
       "    }\n",
       "\n",
       "    .dataframe thead th {\n",
       "        text-align: right;\n",
       "    }\n",
       "</style>\n",
       "<table border=\"1\" class=\"dataframe\">\n",
       "  <thead>\n",
       "    <tr style=\"text-align: right;\">\n",
       "      <th></th>\n",
       "      <th>Ai</th>\n",
       "      <th>Ruby</th>\n",
       "      <th>Kana</th>\n",
       "      <th>Aqua</th>\n",
       "      <th>Akane</th>\n",
       "      <th>new_index</th>\n",
       "    </tr>\n",
       "  </thead>\n",
       "  <tbody>\n",
       "    <tr>\n",
       "      <th>B</th>\n",
       "      <td>-1.062672</td>\n",
       "      <td>1.312714</td>\n",
       "      <td>-0.212791</td>\n",
       "      <td>0.961455</td>\n",
       "      <td>0.165718</td>\n",
       "      <td>E</td>\n",
       "    </tr>\n",
       "    <tr>\n",
       "      <th>C</th>\n",
       "      <td>0.799515</td>\n",
       "      <td>-2.445938</td>\n",
       "      <td>0.575135</td>\n",
       "      <td>0.336439</td>\n",
       "      <td>-1.574594</td>\n",
       "      <td>W</td>\n",
       "    </tr>\n",
       "    <tr>\n",
       "      <th>E</th>\n",
       "      <td>1.184817</td>\n",
       "      <td>0.851445</td>\n",
       "      <td>-0.927864</td>\n",
       "      <td>-0.679774</td>\n",
       "      <td>1.024385</td>\n",
       "      <td>D</td>\n",
       "    </tr>\n",
       "  </tbody>\n",
       "</table>\n",
       "</div>"
      ],
      "text/plain": [
       "         Ai      Ruby      Kana      Aqua     Akane new_index\n",
       "B -1.062672  1.312714 -0.212791  0.961455  0.165718         E\n",
       "C  0.799515 -2.445938  0.575135  0.336439 -1.574594         W\n",
       "E  1.184817  0.851445 -0.927864 -0.679774  1.024385         D"
      ]
     },
     "execution_count": 101,
     "metadata": {},
     "output_type": "execute_result"
    }
   ],
   "source": [
    "df[(df['Akane']>0)|(df['Kana']>0)]"
   ]
  },
  {
   "cell_type": "code",
   "execution_count": 100,
   "id": "70f3818f",
   "metadata": {},
   "outputs": [
    {
     "data": {
      "text/html": [
       "<div>\n",
       "<style scoped>\n",
       "    .dataframe tbody tr th:only-of-type {\n",
       "        vertical-align: middle;\n",
       "    }\n",
       "\n",
       "    .dataframe tbody tr th {\n",
       "        vertical-align: top;\n",
       "    }\n",
       "\n",
       "    .dataframe thead th {\n",
       "        text-align: right;\n",
       "    }\n",
       "</style>\n",
       "<table border=\"1\" class=\"dataframe\">\n",
       "  <thead>\n",
       "    <tr style=\"text-align: right;\">\n",
       "      <th></th>\n",
       "      <th>Ai</th>\n",
       "      <th>Ruby</th>\n",
       "      <th>Kana</th>\n",
       "      <th>Aqua</th>\n",
       "      <th>Akane</th>\n",
       "      <th>new_index</th>\n",
       "    </tr>\n",
       "  </thead>\n",
       "  <tbody>\n",
       "    <tr>\n",
       "      <th>E</th>\n",
       "      <td>1.184817</td>\n",
       "      <td>0.851445</td>\n",
       "      <td>-0.927864</td>\n",
       "      <td>-0.679774</td>\n",
       "      <td>1.024385</td>\n",
       "      <td>D</td>\n",
       "    </tr>\n",
       "  </tbody>\n",
       "</table>\n",
       "</div>"
      ],
      "text/plain": [
       "         Ai      Ruby      Kana      Aqua     Akane new_index\n",
       "E  1.184817  0.851445 -0.927864 -0.679774  1.024385         D"
      ]
     },
     "execution_count": 100,
     "metadata": {},
     "output_type": "execute_result"
    }
   ],
   "source": [
    "df[(df['Ai']>0)&(df['Ruby']>0)]"
   ]
  },
  {
   "cell_type": "markdown",
   "id": "c3bc4c5d",
   "metadata": {},
   "source": [
    "#multi index"
   ]
  },
  {
   "cell_type": "code",
   "execution_count": 105,
   "id": "1f43e410",
   "metadata": {},
   "outputs": [],
   "source": [
    "out = ['B1','B1','B1','B2','B2','B2']\n",
    "inside=[1,2,3,1,2,3]\n",
    "hier_index=list(zip(out,inside))\n",
    "hier_index = pd.MultiIndex.from_tuples(hier_index)"
   ]
  },
  {
   "cell_type": "code",
   "execution_count": 106,
   "id": "28bbd73a",
   "metadata": {},
   "outputs": [
    {
     "name": "stdout",
     "output_type": "stream",
     "text": [
      "MultiIndex([('B1', 1),\n",
      "            ('B1', 2),\n",
      "            ('B1', 3),\n",
      "            ('B2', 1),\n",
      "            ('B2', 2),\n",
      "            ('B2', 3)],\n",
      "           )\n"
     ]
    }
   ],
   "source": [
    "print(hier_index)"
   ]
  },
  {
   "cell_type": "code",
   "execution_count": 112,
   "id": "51482d8f",
   "metadata": {},
   "outputs": [],
   "source": [
    "multi_df = pd.DataFrame(randn(6,2),hier_index,['A','B'])"
   ]
  },
  {
   "cell_type": "code",
   "execution_count": 117,
   "id": "9b4f402d",
   "metadata": {},
   "outputs": [
    {
     "data": {
      "text/html": [
       "<div>\n",
       "<style scoped>\n",
       "    .dataframe tbody tr th:only-of-type {\n",
       "        vertical-align: middle;\n",
       "    }\n",
       "\n",
       "    .dataframe tbody tr th {\n",
       "        vertical-align: top;\n",
       "    }\n",
       "\n",
       "    .dataframe thead th {\n",
       "        text-align: right;\n",
       "    }\n",
       "</style>\n",
       "<table border=\"1\" class=\"dataframe\">\n",
       "  <thead>\n",
       "    <tr style=\"text-align: right;\">\n",
       "      <th></th>\n",
       "      <th></th>\n",
       "      <th>A</th>\n",
       "      <th>B</th>\n",
       "    </tr>\n",
       "  </thead>\n",
       "  <tbody>\n",
       "    <tr>\n",
       "      <th rowspan=\"3\" valign=\"top\">B1</th>\n",
       "      <th>1</th>\n",
       "      <td>1.046663</td>\n",
       "      <td>-0.467685</td>\n",
       "    </tr>\n",
       "    <tr>\n",
       "      <th>2</th>\n",
       "      <td>0.140567</td>\n",
       "      <td>0.462486</td>\n",
       "    </tr>\n",
       "    <tr>\n",
       "      <th>3</th>\n",
       "      <td>0.488025</td>\n",
       "      <td>0.290340</td>\n",
       "    </tr>\n",
       "    <tr>\n",
       "      <th rowspan=\"3\" valign=\"top\">B2</th>\n",
       "      <th>1</th>\n",
       "      <td>0.752003</td>\n",
       "      <td>-1.596599</td>\n",
       "    </tr>\n",
       "    <tr>\n",
       "      <th>2</th>\n",
       "      <td>0.323096</td>\n",
       "      <td>0.151101</td>\n",
       "    </tr>\n",
       "    <tr>\n",
       "      <th>3</th>\n",
       "      <td>0.616514</td>\n",
       "      <td>0.320661</td>\n",
       "    </tr>\n",
       "  </tbody>\n",
       "</table>\n",
       "</div>"
      ],
      "text/plain": [
       "             A         B\n",
       "B1 1  1.046663 -0.467685\n",
       "   2  0.140567  0.462486\n",
       "   3  0.488025  0.290340\n",
       "B2 1  0.752003 -1.596599\n",
       "   2  0.323096  0.151101\n",
       "   3  0.616514  0.320661"
      ]
     },
     "execution_count": 117,
     "metadata": {},
     "output_type": "execute_result"
    }
   ],
   "source": [
    "multi_df"
   ]
  },
  {
   "cell_type": "code",
   "execution_count": 116,
   "id": "b059bc62",
   "metadata": {},
   "outputs": [
    {
     "data": {
      "text/plain": [
       "A    0.752003\n",
       "B   -1.596599\n",
       "Name: 1, dtype: float64"
      ]
     },
     "execution_count": 116,
     "metadata": {},
     "output_type": "execute_result"
    }
   ],
   "source": [
    "#accesing the data\n",
    "#calling from outside to inseide\n",
    "multi_df.loc['B2'].loc[1]"
   ]
  },
  {
   "cell_type": "code",
   "execution_count": 119,
   "id": "389b9641",
   "metadata": {},
   "outputs": [],
   "source": [
    "#naming outside and inside index\n",
    "multi_df.index.names = ['Group','No.']"
   ]
  },
  {
   "cell_type": "code",
   "execution_count": 120,
   "id": "c50bf157",
   "metadata": {},
   "outputs": [
    {
     "data": {
      "text/html": [
       "<div>\n",
       "<style scoped>\n",
       "    .dataframe tbody tr th:only-of-type {\n",
       "        vertical-align: middle;\n",
       "    }\n",
       "\n",
       "    .dataframe tbody tr th {\n",
       "        vertical-align: top;\n",
       "    }\n",
       "\n",
       "    .dataframe thead th {\n",
       "        text-align: right;\n",
       "    }\n",
       "</style>\n",
       "<table border=\"1\" class=\"dataframe\">\n",
       "  <thead>\n",
       "    <tr style=\"text-align: right;\">\n",
       "      <th></th>\n",
       "      <th></th>\n",
       "      <th>A</th>\n",
       "      <th>B</th>\n",
       "    </tr>\n",
       "    <tr>\n",
       "      <th>Group</th>\n",
       "      <th>No.</th>\n",
       "      <th></th>\n",
       "      <th></th>\n",
       "    </tr>\n",
       "  </thead>\n",
       "  <tbody>\n",
       "    <tr>\n",
       "      <th rowspan=\"3\" valign=\"top\">B1</th>\n",
       "      <th>1</th>\n",
       "      <td>1.046663</td>\n",
       "      <td>-0.467685</td>\n",
       "    </tr>\n",
       "    <tr>\n",
       "      <th>2</th>\n",
       "      <td>0.140567</td>\n",
       "      <td>0.462486</td>\n",
       "    </tr>\n",
       "    <tr>\n",
       "      <th>3</th>\n",
       "      <td>0.488025</td>\n",
       "      <td>0.290340</td>\n",
       "    </tr>\n",
       "    <tr>\n",
       "      <th rowspan=\"3\" valign=\"top\">B2</th>\n",
       "      <th>1</th>\n",
       "      <td>0.752003</td>\n",
       "      <td>-1.596599</td>\n",
       "    </tr>\n",
       "    <tr>\n",
       "      <th>2</th>\n",
       "      <td>0.323096</td>\n",
       "      <td>0.151101</td>\n",
       "    </tr>\n",
       "    <tr>\n",
       "      <th>3</th>\n",
       "      <td>0.616514</td>\n",
       "      <td>0.320661</td>\n",
       "    </tr>\n",
       "  </tbody>\n",
       "</table>\n",
       "</div>"
      ],
      "text/plain": [
       "                  A         B\n",
       "Group No.                    \n",
       "B1    1    1.046663 -0.467685\n",
       "      2    0.140567  0.462486\n",
       "      3    0.488025  0.290340\n",
       "B2    1    0.752003 -1.596599\n",
       "      2    0.323096  0.151101\n",
       "      3    0.616514  0.320661"
      ]
     },
     "execution_count": 120,
     "metadata": {},
     "output_type": "execute_result"
    }
   ],
   "source": [
    "multi_df"
   ]
  },
  {
   "cell_type": "code",
   "execution_count": 122,
   "id": "5f5ef432",
   "metadata": {},
   "outputs": [
    {
     "data": {
      "text/plain": [
       "1.0466628605921393"
      ]
     },
     "execution_count": 122,
     "metadata": {},
     "output_type": "execute_result"
    }
   ],
   "source": [
    "multi_df.loc['B1'].loc[1]['A']"
   ]
  },
  {
   "cell_type": "code",
   "execution_count": 125,
   "id": "cac7b9fb",
   "metadata": {},
   "outputs": [
    {
     "data": {
      "text/html": [
       "<div>\n",
       "<style scoped>\n",
       "    .dataframe tbody tr th:only-of-type {\n",
       "        vertical-align: middle;\n",
       "    }\n",
       "\n",
       "    .dataframe tbody tr th {\n",
       "        vertical-align: top;\n",
       "    }\n",
       "\n",
       "    .dataframe thead th {\n",
       "        text-align: right;\n",
       "    }\n",
       "</style>\n",
       "<table border=\"1\" class=\"dataframe\">\n",
       "  <thead>\n",
       "    <tr style=\"text-align: right;\">\n",
       "      <th></th>\n",
       "      <th>A</th>\n",
       "      <th>B</th>\n",
       "    </tr>\n",
       "    <tr>\n",
       "      <th>No.</th>\n",
       "      <th></th>\n",
       "      <th></th>\n",
       "    </tr>\n",
       "  </thead>\n",
       "  <tbody>\n",
       "    <tr>\n",
       "      <th>1</th>\n",
       "      <td>0.752003</td>\n",
       "      <td>-1.596599</td>\n",
       "    </tr>\n",
       "    <tr>\n",
       "      <th>2</th>\n",
       "      <td>0.323096</td>\n",
       "      <td>0.151101</td>\n",
       "    </tr>\n",
       "    <tr>\n",
       "      <th>3</th>\n",
       "      <td>0.616514</td>\n",
       "      <td>0.320661</td>\n",
       "    </tr>\n",
       "  </tbody>\n",
       "</table>\n",
       "</div>"
      ],
      "text/plain": [
       "            A         B\n",
       "No.                    \n",
       "1    0.752003 -1.596599\n",
       "2    0.323096  0.151101\n",
       "3    0.616514  0.320661"
      ]
     },
     "execution_count": 125,
     "metadata": {},
     "output_type": "execute_result"
    }
   ],
   "source": [
    "#cross-section\n",
    "multi_df.xs('B2')"
   ]
  },
  {
   "cell_type": "code",
   "execution_count": 129,
   "id": "bdad5076",
   "metadata": {},
   "outputs": [
    {
     "data": {
      "text/html": [
       "<div>\n",
       "<style scoped>\n",
       "    .dataframe tbody tr th:only-of-type {\n",
       "        vertical-align: middle;\n",
       "    }\n",
       "\n",
       "    .dataframe tbody tr th {\n",
       "        vertical-align: top;\n",
       "    }\n",
       "\n",
       "    .dataframe thead th {\n",
       "        text-align: right;\n",
       "    }\n",
       "</style>\n",
       "<table border=\"1\" class=\"dataframe\">\n",
       "  <thead>\n",
       "    <tr style=\"text-align: right;\">\n",
       "      <th></th>\n",
       "      <th>A</th>\n",
       "      <th>B</th>\n",
       "    </tr>\n",
       "    <tr>\n",
       "      <th>Group</th>\n",
       "      <th></th>\n",
       "      <th></th>\n",
       "    </tr>\n",
       "  </thead>\n",
       "  <tbody>\n",
       "    <tr>\n",
       "      <th>B1</th>\n",
       "      <td>0.488025</td>\n",
       "      <td>0.290340</td>\n",
       "    </tr>\n",
       "    <tr>\n",
       "      <th>B2</th>\n",
       "      <td>0.616514</td>\n",
       "      <td>0.320661</td>\n",
       "    </tr>\n",
       "  </tbody>\n",
       "</table>\n",
       "</div>"
      ],
      "text/plain": [
       "              A         B\n",
       "Group                    \n",
       "B1     0.488025  0.290340\n",
       "B2     0.616514  0.320661"
      ]
     },
     "execution_count": 129,
     "metadata": {},
     "output_type": "execute_result"
    }
   ],
   "source": [
    "multi_df.xs(3,level='No.')\n",
    "#it will grab all values from No. that index matches to 3\n",
    "#multi_df.xs(specify what you want,level='name of index')"
   ]
  },
  {
   "cell_type": "code",
   "execution_count": null,
   "id": "47f3b36e",
   "metadata": {},
   "outputs": [],
   "source": []
  }
 ],
 "metadata": {
  "kernelspec": {
   "display_name": "Python 3 (ipykernel)",
   "language": "python",
   "name": "python3"
  },
  "language_info": {
   "codemirror_mode": {
    "name": "ipython",
    "version": 3
   },
   "file_extension": ".py",
   "mimetype": "text/x-python",
   "name": "python",
   "nbconvert_exporter": "python",
   "pygments_lexer": "ipython3",
   "version": "3.9.13"
  }
 },
 "nbformat": 4,
 "nbformat_minor": 5
}
