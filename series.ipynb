{
 "cells": [
  {
   "cell_type": "markdown",
   "id": "2a0e009e",
   "metadata": {},
   "source": [
    "# Pandas"
   ]
  },
  {
   "cell_type": "markdown",
   "id": "1a6a0623",
   "metadata": {},
   "source": [
    "#Series"
   ]
  },
  {
   "cell_type": "code",
   "execution_count": 59,
   "id": "c4b9c1c5",
   "metadata": {},
   "outputs": [],
   "source": [
    "import numpy as np"
   ]
  },
  {
   "cell_type": "code",
   "execution_count": 58,
   "id": "6db57b1e",
   "metadata": {},
   "outputs": [],
   "source": [
    "import pandas as pd"
   ]
  },
  {
   "cell_type": "markdown",
   "id": "17b7e371",
   "metadata": {},
   "source": [
    "#series represent one dimensional capable of holding data of any type (integer, string, float, python objects, etc.).\n",
    "#pd.Series(data,index)\n"
   ]
  },
  {
   "cell_type": "markdown",
   "id": "e3a81980",
   "metadata": {},
   "source": [
    "#lets create four different python objects"
   ]
  },
  {
   "cell_type": "code",
   "execution_count": 6,
   "id": "98e4bc00",
   "metadata": {},
   "outputs": [],
   "source": [
    "labels = ['a','b','c']\n",
    "my_data = [15,23,25]\n",
    "arr = np.array(my_data)\n",
    "d = {'a':15, 'b':23, 'c':25}"
   ]
  },
  {
   "cell_type": "code",
   "execution_count": 11,
   "id": "baa65145",
   "metadata": {},
   "outputs": [
    {
     "data": {
      "text/plain": [
       "0    15\n",
       "1    23\n",
       "2    25\n",
       "dtype: int64"
      ]
     },
     "execution_count": 11,
     "metadata": {},
     "output_type": "execute_result"
    }
   ],
   "source": [
    "pd.Series(data = my_data)"
   ]
  },
  {
   "cell_type": "code",
   "execution_count": 16,
   "id": "479ac2e3",
   "metadata": {},
   "outputs": [
    {
     "data": {
      "text/plain": [
       "a    15\n",
       "b    23\n",
       "c    25\n",
       "dtype: int64"
      ]
     },
     "execution_count": 16,
     "metadata": {},
     "output_type": "execute_result"
    }
   ],
   "source": [
    "pd.Series(my_data,labels)"
   ]
  },
  {
   "cell_type": "markdown",
   "id": "11933e2a",
   "metadata": {},
   "source": [
    "#Series can hold a variety of python objects such as array and dictionaries."
   ]
  },
  {
   "cell_type": "code",
   "execution_count": 20,
   "id": "dd99460a",
   "metadata": {},
   "outputs": [
    {
     "data": {
      "text/plain": [
       "a    15\n",
       "b    23\n",
       "c    25\n",
       "dtype: int32"
      ]
     },
     "execution_count": 20,
     "metadata": {},
     "output_type": "execute_result"
    }
   ],
   "source": [
    "pd.Series(arr,labels)"
   ]
  },
  {
   "cell_type": "code",
   "execution_count": 18,
   "id": "6644c972",
   "metadata": {},
   "outputs": [
    {
     "data": {
      "text/plain": [
       "a    15\n",
       "b    23\n",
       "c    25\n",
       "dtype: int64"
      ]
     },
     "execution_count": 18,
     "metadata": {},
     "output_type": "execute_result"
    }
   ],
   "source": [
    "pd.Series(d)"
   ]
  },
  {
   "cell_type": "code",
   "execution_count": 19,
   "id": "9f6ffd34",
   "metadata": {},
   "outputs": [
    {
     "data": {
      "text/plain": [
       "['a', 'b', 'c']"
      ]
     },
     "execution_count": 19,
     "metadata": {},
     "output_type": "execute_result"
    }
   ],
   "source": [
    "labels"
   ]
  },
  {
   "cell_type": "markdown",
   "id": "ac91c31d",
   "metadata": {},
   "source": [
    "#Accessing elements of a Pandas Series"
   ]
  },
  {
   "cell_type": "code",
   "execution_count": 46,
   "id": "eb88a830",
   "metadata": {},
   "outputs": [],
   "source": [
    "ser1 = pd.Series([1,2,3,4,5],['kana','uzui','sincere','zza1','chaewon'])"
   ]
  },
  {
   "cell_type": "markdown",
   "id": "cfc7937d",
   "metadata": {},
   "source": [
    "#labels index      data points\n",
    "#kana               1\n",
    "#uzui               2\n",
    "#sincere            3\n",
    "#zza1               4\n",
    "#chaewon            5"
   ]
  },
  {
   "cell_type": "code",
   "execution_count": 44,
   "id": "e884df13",
   "metadata": {},
   "outputs": [
    {
     "data": {
      "text/plain": [
       "kana       1\n",
       "uzui       2\n",
       "sincere    3\n",
       "zza1       4\n",
       "chaewon    5\n",
       "dtype: int64"
      ]
     },
     "execution_count": 44,
     "metadata": {},
     "output_type": "execute_result"
    }
   ],
   "source": [
    "ser1"
   ]
  },
  {
   "cell_type": "code",
   "execution_count": 26,
   "id": "f48d2ec5",
   "metadata": {},
   "outputs": [],
   "source": [
    "ser2 = pd.Series([1,2,3,4,],['b-komachi','kana','ruby','mem'])"
   ]
  },
  {
   "cell_type": "code",
   "execution_count": 48,
   "id": "20f52f30",
   "metadata": {},
   "outputs": [
    {
     "data": {
      "text/plain": [
       "b-komachi    1\n",
       "kana         2\n",
       "ruby         3\n",
       "mem          4\n",
       "dtype: int64"
      ]
     },
     "execution_count": 48,
     "metadata": {},
     "output_type": "execute_result"
    }
   ],
   "source": [
    "ser2"
   ]
  },
  {
   "cell_type": "markdown",
   "id": "b5900632",
   "metadata": {},
   "source": [
    "#ser1['actual index it can be either a string or a number']\n",
    "#it depends on what data types is your index"
   ]
  },
  {
   "cell_type": "code",
   "execution_count": 32,
   "id": "f1a2c769",
   "metadata": {},
   "outputs": [
    {
     "data": {
      "text/plain": [
       "4"
      ]
     },
     "execution_count": 32,
     "metadata": {},
     "output_type": "execute_result"
    }
   ],
   "source": [
    "ser1['zza1']"
   ]
  },
  {
   "cell_type": "code",
   "execution_count": 33,
   "id": "5a613eb6",
   "metadata": {},
   "outputs": [
    {
     "data": {
      "text/plain": [
       "1"
      ]
     },
     "execution_count": 33,
     "metadata": {},
     "output_type": "execute_result"
    }
   ],
   "source": [
    "ser2['b-komachi']"
   ]
  },
  {
   "cell_type": "code",
   "execution_count": 52,
   "id": "030d0a50",
   "metadata": {},
   "outputs": [
    {
     "data": {
      "text/plain": [
       "b-komachi    NaN\n",
       "chaewon      NaN\n",
       "kana         3.0\n",
       "mem          NaN\n",
       "ruby         NaN\n",
       "sincere      NaN\n",
       "uzui         NaN\n",
       "zza1         NaN\n",
       "dtype: float64"
      ]
     },
     "execution_count": 52,
     "metadata": {},
     "output_type": "execute_result"
    }
   ],
   "source": [
    "ser1 + ser2"
   ]
  },
  {
   "cell_type": "markdown",
   "id": "2e2fc443",
   "metadata": {},
   "source": [
    "#if there is no match value it will return NaN\n",
    "#in pandas if we are performing operations in pandas series our integers will converted into float"
   ]
  },
  {
   "cell_type": "code",
   "execution_count": 40,
   "id": "5643399f",
   "metadata": {},
   "outputs": [],
   "source": [
    "ser3 = pd.Series(data=labels)"
   ]
  },
  {
   "cell_type": "code",
   "execution_count": 41,
   "id": "6c04efe4",
   "metadata": {},
   "outputs": [
    {
     "data": {
      "text/plain": [
       "0    a\n",
       "1    b\n",
       "2    c\n",
       "dtype: object"
      ]
     },
     "execution_count": 41,
     "metadata": {},
     "output_type": "execute_result"
    }
   ],
   "source": [
    "ser3"
   ]
  },
  {
   "cell_type": "code",
   "execution_count": 42,
   "id": "ffa28245",
   "metadata": {},
   "outputs": [
    {
     "data": {
      "text/plain": [
       "'b'"
      ]
     },
     "execution_count": 42,
     "metadata": {},
     "output_type": "execute_result"
    }
   ],
   "source": [
    "ser3[1]"
   ]
  }
 ],
 "metadata": {
  "kernelspec": {
   "display_name": "Python 3 (ipykernel)",
   "language": "python",
   "name": "python3"
  },
  "language_info": {
   "codemirror_mode": {
    "name": "ipython",
    "version": 3
   },
   "file_extension": ".py",
   "mimetype": "text/x-python",
   "name": "python",
   "nbconvert_exporter": "python",
   "pygments_lexer": "ipython3",
   "version": "3.9.13"
  }
 },
 "nbformat": 4,
 "nbformat_minor": 5
}
